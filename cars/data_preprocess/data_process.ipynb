{
 "cells": [
  {
   "cell_type": "code",
   "execution_count": 1,
   "metadata": {},
   "outputs": [],
   "source": [
    "import pandas as pd"
   ]
  },
  {
   "cell_type": "code",
   "execution_count": 3,
   "metadata": {},
   "outputs": [],
   "source": [
    "df = pd.read_csv('used_car_data_new.csv')"
   ]
  },
  {
   "cell_type": "code",
   "execution_count": 4,
   "metadata": {},
   "outputs": [],
   "source": [
    "import pandas as pd\n",
    "\n",
    "# Assuming your dataset is in a DataFrame called df\n",
    "\n",
    "# Create a function that returns the first showroom_location for each group\n",
    "def get_first_location(group):\n",
    "    first_location = group['showroom_location'].iloc[0]\n",
    "    group['showroom_location'] = first_location\n",
    "    return group\n",
    "\n",
    "# Apply the function to each group of showroom_name and showroom_regency\n",
    "new_df = df.groupby(['showroom_name', 'showroom_regency']).apply(get_first_location).reset_index(drop=True)"
   ]
  },
  {
   "cell_type": "code",
   "execution_count": 5,
   "metadata": {},
   "outputs": [],
   "source": [
    "new_df[['showroom_name', 'showroom_location', 'showroom_regency']].drop_duplicates().sort_values(by='showroom_name')"
   ]
  },
  {
   "cell_type": "code",
   "execution_count": 6,
   "metadata": {},
   "outputs": [],
   "source": [
    "# Create a new column 'showroom_group' to indicate the group number\n",
    "new_df['showroom_group'] = pd.factorize(new_df[['showroom_name', 'showroom_location', 'showroom_regency']].apply(tuple, axis=1))[0] + 1\n"
   ]
  },
  {
   "cell_type": "code",
   "execution_count": 7,
   "metadata": {},
   "outputs": [],
   "source": [
    "new_df"
   ]
  },
  {
   "cell_type": "code",
   "execution_count": 8,
   "metadata": {},
   "outputs": [],
   "source": [
    "# Assuming your original dataset is stored in `df`\n",
    "\n",
    "# Car-related columns\n",
    "# car_columns = [\n",
    "#     'id_ucd', 'id_merk', 'type', 'model', 'color', 'year', 'id_transmission', \n",
    "#     'id_fuel_type', 'door', 'cylinder_size', 'cylinder_total', 'turbo', \n",
    "#     'mileage', 'license_plate', 'price_cash', 'price_credit', 'nilai_jual_pkb', \n",
    "#     'pkb_pokok', 'stnk_date', 'levy_date', 'swdkllj', 'total_levy', 'showroom_group'\n",
    "# ]\n",
    "\n",
    "# Showroom-related columns\n",
    "showroom_columns = [\n",
    "    'showroom_name', 'showroom_location', 'showroom_regency', 'showroom_group'\n",
    "]\n",
    "\n",
    "car_showroom_columns = [\n",
    "    'id_ucd', 'showroom_group'\n",
    "]\n",
    "\n",
    "# Split datasets\n",
    "car_df = new_df.copy()\n",
    "showroom_df = new_df[showroom_columns].drop_duplicates()\n",
    "# car_showroom_df = new_df[car_showroom_columns]\n"
   ]
  },
  {
   "cell_type": "code",
   "execution_count": 9,
   "metadata": {},
   "outputs": [],
   "source": [
    "car_df"
   ]
  },
  {
   "cell_type": "code",
   "execution_count": 10,
   "metadata": {},
   "outputs": [],
   "source": [
    "df.info()"
   ]
  },
  {
   "cell_type": "code",
   "execution_count": 11,
   "metadata": {},
   "outputs": [],
   "source": [
    "showroom_df"
   ]
  },
  {
   "cell_type": "code",
   "execution_count": 9,
   "metadata": {},
   "outputs": [],
   "source": [
    "transmission_mapping = {\n",
    "    1 : 'manual',\n",
    "    2 : 'automatic',\n",
    "}"
   ]
  },
  {
   "cell_type": "code",
   "execution_count": 10,
   "metadata": {},
   "outputs": [],
   "source": [
    "car_df['id_transmission'] = car_df['id_transmission'].map(transmission_mapping)"
   ]
  },
  {
   "cell_type": "code",
   "execution_count": 14,
   "metadata": {},
   "outputs": [],
   "source": [
    "car_df"
   ]
  },
  {
   "cell_type": "code",
   "execution_count": 11,
   "metadata": {},
   "outputs": [],
   "source": [
    "# Convert date columns to the appropriate formats\n",
    "car_df['stnk_date'] = pd.to_datetime(car_df['stnk_date'], format='%m/%d/%Y').dt.date\n",
    "car_df['levy_date'] = pd.to_datetime(car_df['levy_date'], format='%m/%d/%Y').dt.date\n",
    "car_df['created_at'] = pd.to_datetime(car_df['created_at'], format='%m/%d/%Y %H:%M')\n",
    "car_df['updated_at'] = pd.to_datetime(car_df['updated_at'], format='%m/%d/%Y %H:%M')\n",
    "\n"
   ]
  },
  {
   "cell_type": "code",
   "execution_count": 12,
   "metadata": {},
   "outputs": [],
   "source": [
    "car_df = car_df.drop(columns=['photo_1', 'photo_2', 'photo_3', 'link'])"
   ]
  },
  {
   "cell_type": "code",
   "execution_count": 13,
   "metadata": {},
   "outputs": [],
   "source": [
    "car_df = car_df.dropna()"
   ]
  },
  {
   "cell_type": "code",
   "execution_count": 24,
   "metadata": {},
   "outputs": [],
   "source": [
    "car_df.to_csv('car_data.csv')\n",
    "showroom_df.to_csv('showroom_data.csv')"
   ]
  },
  {
   "cell_type": "code",
   "execution_count": 23,
   "metadata": {},
   "outputs": [],
   "source": [
    "car_df.info()"
   ]
  },
  {
   "cell_type": "code",
   "execution_count": 15,
   "metadata": {},
   "outputs": [],
   "source": [
    "car_df['turbo']"
   ]
  }
 ],
 "metadata": {
  "kernelspec": {
   "display_name": "env",
   "language": "python",
   "name": "python3"
  },
  "language_info": {
   "codemirror_mode": {
    "name": "ipython",
    "version": 3
   },
   "file_extension": ".py",
   "mimetype": "text/x-python",
   "name": "python",
   "nbconvert_exporter": "python",
   "pygments_lexer": "ipython3",
   "version": "3.11.9"
  }
 },
 "nbformat": 4,
 "nbformat_minor": 2
}
